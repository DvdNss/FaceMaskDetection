{
  "nbformat": 4,
  "nbformat_minor": 0,
  "metadata": {
    "colab": {
      "name": "Google-MT5-For-Everything",
      "provenance": [],
      "collapsed_sections": [
        "DCDNYwJpfCSP"
      ],
      "mount_file_id": "11vmQweNDwx6UL9TIXBoxAErtx0mXgxWY",
      "authorship_tag": "ABX9TyMzSQtmT1ZPJL6LSli/fwXN",
      "include_colab_link": true
    },
    "kernelspec": {
      "name": "python3",
      "display_name": "Python 3"
    },
    "language_info": {
      "name": "python"
    },
    "accelerator": "GPU"
  },
  "cells": [
    {
      "cell_type": "markdown",
      "metadata": {
        "id": "view-in-github",
        "colab_type": "text"
      },
      "source": [
        "<a href=\"https://colab.research.google.com/github/DvdNss/FaceMaskDetection/blob/main/Google_MT5_For_Everything.ipynb\" target=\"_parent\"><img src=\"https://colab.research.google.com/assets/colab-badge.svg\" alt=\"Open In Colab\"/></a>"
      ]
    },
    {
      "cell_type": "code",
      "execution_count": null,
      "metadata": {
        "id": "fQihxmoFe-tX"
      },
      "outputs": [],
      "source": [
        "!nvidia-smi"
      ]
    },
    {
      "cell_type": "markdown",
      "source": [
        "# Install Repo\n",
        "(do not forget to mount your drive to have the models stored in it automatically)"
      ],
      "metadata": {
        "id": "DCDNYwJpfCSP"
      }
    },
    {
      "cell_type": "code",
      "source": [
        "cd /content/drive/MyDrive/"
      ],
      "metadata": {
        "colab": {
          "base_uri": "https://localhost:8080/"
        },
        "id": "TbhfuTOgfFbi",
        "outputId": "862078fb-90eb-4da6-f460-891255a73064"
      },
      "execution_count": 1,
      "outputs": [
        {
          "output_type": "stream",
          "name": "stdout",
          "text": [
            "/content/drive/MyDrive\n"
          ]
        }
      ]
    },
    {
      "cell_type": "code",
      "source": [
        "!git clone https://github.com/DvdNss/Google-MT5-For-Everything.git"
      ],
      "metadata": {
        "colab": {
          "base_uri": "https://localhost:8080/"
        },
        "id": "K7-RXgnHfHc3",
        "outputId": "be1c0f1c-a693-4416-e975-f72b7d8a52bf"
      },
      "execution_count": 2,
      "outputs": [
        {
          "output_type": "stream",
          "name": "stdout",
          "text": [
            "fatal: destination path 'Google-MT5-For-Everything' already exists and is not an empty directory.\n"
          ]
        }
      ]
    },
    {
      "cell_type": "code",
      "source": [
        "cd /content/drive/MyDrive/Google-MT5-For-Everything/"
      ],
      "metadata": {
        "colab": {
          "base_uri": "https://localhost:8080/"
        },
        "id": "FGeo6Y3FfHov",
        "outputId": "bca72a77-141f-43d6-8d34-46cfd23176f5"
      },
      "execution_count": 3,
      "outputs": [
        {
          "output_type": "stream",
          "name": "stdout",
          "text": [
            "/content/drive/MyDrive/Google-MT5-For-Everything\n"
          ]
        }
      ]
    },
    {
      "cell_type": "code",
      "source": [
        "!git pull"
      ],
      "metadata": {
        "colab": {
          "base_uri": "https://localhost:8080/"
        },
        "id": "WVyqse7efHxM",
        "outputId": "6c0e1751-8b5e-4a08-af0e-298c5d5f498e"
      },
      "execution_count": 4,
      "outputs": [
        {
          "output_type": "stream",
          "name": "stdout",
          "text": [
            "Already up to date.\n"
          ]
        }
      ]
    },
    {
      "cell_type": "code",
      "source": [
        "pip install -r requirements.txt"
      ],
      "metadata": {
        "id": "dlEBG58ufO5B"
      },
      "execution_count": null,
      "outputs": []
    },
    {
      "cell_type": "markdown",
      "source": [
        "# Train"
      ],
      "metadata": {
        "id": "8SjiN5VofRAu"
      }
    },
    {
      "cell_type": "code",
      "source": [
        "cd /content/drive/MyDrive/Google-MT5-For-Everything/"
      ],
      "metadata": {
        "colab": {
          "base_uri": "https://localhost:8080/"
        },
        "id": "tpbp8EVCgqim",
        "outputId": "fc794af1-b77a-47e8-b1da-30466a936eaf"
      },
      "execution_count": 6,
      "outputs": [
        {
          "output_type": "stream",
          "name": "stdout",
          "text": [
            "/content/drive/MyDrive/Google-MT5-For-Everything\n"
          ]
        }
      ]
    },
    {
      "cell_type": "code",
      "source": [
        "#@title Training Form\n",
        "from source.datamodule import DataModule\n",
        "from pytorch_lightning import seed_everything, Trainer\n",
        "from source.mt5 import MT5\n",
        "import os\n",
        "import torch\n",
        "\n",
        "train_file = 'data/train_example.tsv' #@param{type:'string'}\n",
        "valid_file = 'data/valid_example.tsv' #@param{type:\"string\"}\n",
        "inputs_col = 'inputs' #@param{type:\"string\"}\n",
        "outputs_col = 'outputs' #@param{type:\"string\"}\n",
        "tokenizer_name_or_path = \"google/mt5-small\" #@param{type:\"string\"}[\"google/mt5-small\", \"google/mt5-base\", \"google/mt5-large\"]\n",
        "input_max_length = 512 #@param{type:\"slider\", min:10, max:512}\n",
        "output_max_length = 10 #@param{type:\"slider\", min:1, max:512}\n",
        "batch_size = 1 #@param{type:\"slider\", min: 1, max:32}\n",
        "output_dir = 'model' #@param{type:\"string\"}\n",
        "model_name_or_path = 'google/mt5-small' #@param{type:\"string\"}[\"google/mt5-small\", \"google/mt5-base\", \"google/mt5-large\"]\n",
        "epochs = 20 #@param{type:\"slider\", min: 1, max: 32}\n",
        "learning_rate = 5e-4 #@param{type:\"number\"}\n",
        "seed = 42 #@param{type:\"integer\"}\n",
        "\n",
        "seed_everything(seed)\n",
        "\n",
        "data = DataModule(\n",
        "    train_file=train_file ,\n",
        "    valid_file=valid_file,\n",
        "    inputs_col=inputs_col,\n",
        "    outputs_col=outputs_col,\n",
        "    tokenizer_name_or_path = tokenizer_name_or_path,\n",
        "    input_max_length = input_max_length,\n",
        "    output_max_length = output_max_length,\n",
        "    batch_size = batch_size,\n",
        "    num_workers = os.cpu_count(),\n",
        ")\n",
        "\n",
        "model = MT5(model_name_or_path=model_name_or_path, learning_rate=learning_rate)\n",
        "\n",
        "Trainer(max_epochs=epochs, gpus=1, default_root_dir=output_dir).fit(model=model, datamodule=data)"
      ],
      "metadata": {
        "id": "O1aW32L8fpd7"
      },
      "execution_count": null,
      "outputs": []
    },
    {
      "cell_type": "markdown",
      "source": [
        "# Inference"
      ],
      "metadata": {
        "id": "vn8_ItFGgULh"
      }
    },
    {
      "cell_type": "code",
      "source": [
        "from transformers import AutoTokenizer\n",
        "from source.mt5 import MT5\n",
        "\n",
        "# Do not forget to update this arg with your own model\n",
        "path_to_checkpoint = 'path_to_checkpoint.ckpt'\n",
        "\n",
        "# Loading model and tokenizer\n",
        "model = MT5.load_from_checkpoint(path_to_checkpoint).eval().cuda()\n",
        "model.tokenizer = AutoTokenizer.from_pretrained('tokenizer', use_fast=True)\n",
        "\n",
        "input = 'Your input here. '\n",
        "\n",
        "# Prediction\n",
        "prediction = model.predict(inputs=[input])"
      ],
      "metadata": {
        "id": "xVyZQHrEgWCW"
      },
      "execution_count": null,
      "outputs": []
    }
  ]
}